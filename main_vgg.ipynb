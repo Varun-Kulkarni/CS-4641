{
  "cells": [
    {
      "cell_type": "code",
      "execution_count": 1,
      "metadata": {
        "id": "mI8-uw-w3NOl"
      },
      "outputs": [],
      "source": [
        "\"\"\"\n",
        "    Import necessary packages in python \n",
        "\"\"\"\n",
        "%matplotlib inline\n",
        "import os\n",
        "import sys \n",
        "import numpy as np \n",
        "import matplotlib as plt\n",
        "from sklearn.model_selection import train_test_split\n",
        "import seaborn\n",
        "import tensorflow as tf\n",
        "from tensorflow.keras.layers import Input, Conv2D, MaxPooling2D, BatchNormalization, Flatten, Dropout, Dense\n",
        "from tensorflow.keras.callbacks import EarlyStopping, ModelCheckpoint, ReduceLROnPlateau\n",
        "from tensorflow.keras.preprocessing.image import ImageDataGenerator\n",
        "from PIL import Image"
      ]
    },
    {
      "cell_type": "code",
      "execution_count": 2,
      "metadata": {
        "colab": {
          "base_uri": "https://localhost:8080/"
        },
        "id": "fbfjFsN33dt4",
        "outputId": "aa125e1f-0eff-4f9b-963a-ca4ba1858545"
      },
      "outputs": [
        {
          "name": "stdout",
          "output_type": "stream",
          "text": [
            "Found HAM10000 metadata file, loading into pandas df\n",
            "Done\n",
            "Found HAM10000 RGB images in size 28x28, reading into df\n",
            "Done\n"
          ]
        }
      ],
      "source": [
        "\"\"\"\n",
        "OS Paths for loading dataset and assets\n",
        "\"\"\"\n",
        "cwd = os.getcwd()\n",
        "\n",
        "DATA_PATH = os.path.join(cwd, \"data\")\n",
        "UTILS_PATH = os.path.join(cwd, \"utils\")\n",
        "MODELS_PATH = os.path.join(cwd, \"models\")\n",
        "\n",
        "## Add the utils path \n",
        "sys.path.append(UTILS_PATH)\n",
        "sys.path.append(MODELS_PATH)\n",
        "\n",
        "#Use the utils path to load our data loader methods \n",
        "from utils import data_loader\n",
        "\n",
        "hmnist_metadata = data_loader.load_HAM10000_metadata(DATA_PATH)\n",
        "# Quick test:\n",
        "# for f in os.listdir(DATA_PATH):\n",
        "#     print(os.path.join(DATA_PATH, f))\n",
        "\n",
        "#Import data \n",
        "# import \n",
        "# metadata = pd.read_csv(os.path.join(DATA_PATH, \"HAM10000_metadata.csv\"))\n",
        "# hmnist8_8_L = data_loader.load_HAM10000_L(DATA_PATH)\n",
        "\n",
        "hmnist_28_28_RGB = data_loader.load_HAM10000_RGB(DATA_PATH, False)"
      ]
    },
    {
      "cell_type": "code",
      "execution_count": 3,
      "metadata": {
        "colab": {
          "base_uri": "https://localhost:8080/"
        },
        "id": "8nKTqDmb3tZE",
        "outputId": "3a8b8842-f793-4de0-ee13-a8307327c2df"
      },
      "outputs": [
        {
          "data": {
            "text/plain": [
              "(10015, 2353)"
            ]
          },
          "execution_count": 3,
          "metadata": {},
          "output_type": "execute_result"
        }
      ],
      "source": [
        "hmnist_28_28_RGB.shape"
      ]
    },
    {
      "cell_type": "code",
      "execution_count": 4,
      "metadata": {
        "colab": {
          "base_uri": "https://localhost:8080/",
          "height": 520
        },
        "id": "sHp-Qefb3gbu",
        "outputId": "1385f14f-a21f-4c3b-f0e2-4ae028bc0df8"
      },
      "outputs": [
        {
          "name": "stdout",
          "output_type": "stream",
          "text": [
            "Size: (10015, 7)\n",
            "Duplicates: 0\n",
            "Nulls: \n",
            "lesion_id        0\n",
            "image_id         0\n",
            "dx               0\n",
            "dx_type          0\n",
            "age             57\n",
            "sex              0\n",
            "localization     0\n",
            "dtype: int64\n",
            "\n",
            "Nans: (57, 7)\n"
          ]
        },
        {
          "data": {
            "text/plain": [
              "<AxesSubplot:xlabel='label', ylabel='count'>"
            ]
          },
          "execution_count": 4,
          "metadata": {},
          "output_type": "execute_result"
        },
        {
          "data": {
            "image/png": "[encoded data removed]",
            "text/plain": [
              "<Figure size 432x288 with 1 Axes>"
            ]
          },
          "metadata": {
            "needs_background": "light"
          },
          "output_type": "display_data"
        }
      ],
      "source": [
        "#EDA portion: \n",
        "def eda(dataframe):\n",
        "    size = dataframe.shape\n",
        "    duplicates = dataframe.duplicated().sum()\n",
        "    nulls = dataframe.isnull().sum()\n",
        "    nans = dataframe.isnull().any(axis=1)\n",
        "    rows_with_nans = dataframe[nans]\n",
        "\n",
        "    return print(f\"Size: {size}\\nDuplicates: {duplicates}\\nNulls: \\n{nulls}\\n\\nNans: {rows_with_nans.shape}\")\n",
        "    \n",
        "\n",
        "eda(hmnist_metadata)\n",
        "\n",
        "\n",
        "labels = hmnist_28_28_RGB[\"label\"]\n",
        "plt.figure.Figure()\n",
        "seaborn.countplot(x=labels)"
      ]
    },
    {
      "cell_type": "code",
      "execution_count": 5,
      "metadata": {
        "id": "7e81oxMp_f5D"
      },
      "outputs": [],
      "source": [
        "# resize the feature array\n",
        "hmnist_28_28_RGB_feats = hmnist_28_28_RGB.drop(columns=[\"label\"])\n",
        "hmnist_reshape = np.array(hmnist_28_28_RGB_feats).reshape(-1, 28, 28, 3)"
      ]
    },
    {
      "cell_type": "code",
      "execution_count": 6,
      "metadata": {
        "colab": {
          "base_uri": "https://localhost:8080/"
        },
        "id": "xNmVPCQOAE0T",
        "outputId": "d0e0e263-3326-4e98-d597-f373bc66485c"
      },
      "outputs": [
        {
          "name": "stdout",
          "output_type": "stream",
          "text": [
            "Reshaped Feature Set Shape: (10015, 28, 28, 3)\n",
            "Label Set Shape: (10015,)\n"
          ]
        }
      ],
      "source": [
        "print(f\"Reshaped Feature Set Shape: {hmnist_reshape.shape}\")\n",
        "print(f\"Label Set Shape: {labels.shape}\")"
      ]
    },
    {
      "cell_type": "code",
      "execution_count": 8,
      "metadata": {},
      "outputs": [
        {
          "name": "stderr",
          "output_type": "stream",
          "text": [
            "/Users/varunk/anaconda3/envs/4641project/lib/python3.7/site-packages/ipykernel_launcher.py:10: FutureWarning: The input object of type 'Image' is an array-like implementing one of the corresponding protocols (`__array__`, `__array_interface__` or `__array_struct__`); but not a sequence (or 0-D). In the future, this object will be coerced as if it was first converted using `np.array(obj)`. To retain the old behaviour, you have to either modify the type 'Image', or assign to an empty array created with `np.empty(correct_shape, dtype=object)`.\n",
            "  # Remove the CWD from sys.path while we load stuff.\n",
            "/Users/varunk/anaconda3/envs/4641project/lib/python3.7/site-packages/ipykernel_launcher.py:10: VisibleDeprecationWarning: Creating an ndarray from ragged nested sequences (which is a list-or-tuple of lists-or-tuples-or ndarrays with different lengths or shapes) is deprecated. If you meant to do this, you must specify 'dtype=object' when creating the ndarray.\n",
            "  # Remove the CWD from sys.path while we load stuff.\n"
          ]
        },
        {
          "data": {
            "text/plain": [
              "(10015,)"
            ]
          },
          "execution_count": 8,
          "metadata": {},
          "output_type": "execute_result"
        }
      ],
      "source": [
        "uint_hminst = hmnist_reshape.astype(np.uint8)\n",
        "hmnist_images = []\n",
        "VGG_INPUT_SiZE = (224, 224)\n",
        "for i in uint_hminst:\n",
        "    next_img = Image.fromarray(i)\n",
        "    next_img.resize(VGG_INPUT_SiZE)\n",
        "    hmnist_images.append(next_img)\n",
        "    # hmnist_images.append(Image.fromarray(i))\n",
        "    \n",
        "np_hmnist_img = np.array(hmnist_images)\n",
        "np_hmnist_img.shape"
      ]
    },
    {
      "cell_type": "code",
      "execution_count": 9,
      "metadata": {
        "id": "6p19EkIgAQ8B"
      },
      "outputs": [],
      "source": [
        "#Train Test Split \n",
        "X_train, X_test, y_train, y_test = train_test_split(np_hmnist_img, labels, train_size=0.8)#"
      ]
    },
    {
      "cell_type": "code",
      "execution_count": 10,
      "metadata": {
        "id": "5J8vpA5SBnP-"
      },
      "outputs": [],
      "source": [
        "# Create an encoding of the labels into one-hot array\n",
        "\n",
        "y_train = tf.keras.utils.to_categorical(y_train, num_classes=7)\n",
        "y_test = tf.keras.utils.to_categorical(y_test, num_classes=7)"
      ]
    },
    {
      "cell_type": "code",
      "execution_count": 11,
      "metadata": {
        "colab": {
          "base_uri": "https://localhost:8080/"
        },
        "id": "U6NQY_LcCzVx",
        "outputId": "15d62752-1e31-4cb1-e327-3576237c3db1"
      },
      "outputs": [
        {
          "name": "stdout",
          "output_type": "stream",
          "text": [
            "Shapes: \n",
            " \tX_train: (8012,)\n",
            "\ty_train: (8012, 7)\n",
            "\tX_test: (2003,)\n",
            "\ty_test: (2003, 7)\n"
          ]
        }
      ],
      "source": [
        "print(f\"Shapes: \\n \\tX_train: {X_train.shape}\\n\\ty_train: {y_train.shape}\\n\\tX_test: {X_test.shape}\\n\\ty_test: {y_test.shape}\")"
      ]
    },
    {
      "cell_type": "code",
      "execution_count": 12,
      "metadata": {
        "colab": {
          "base_uri": "https://localhost:8080/"
        },
        "id": "4SRSzfanC0yO",
        "outputId": "b52e9ecc-1f5e-42ae-d684-67748c7752cc"
      },
      "outputs": [
        {
          "name": "stdout",
          "output_type": "stream",
          "text": [
            "----- Training Set Sizes -----\n",
            "X_train: (6409,)\n",
            "y_train: (6409, 7)\n",
            "\n",
            "----- Validation Set Sizes -----\n",
            "X_validate: (1603,)\n",
            "y_validate: (1603, 7)\n",
            "\n",
            "----- Test/Prediction Set Sizes -----\n",
            "X_test: (2003,)\n",
            "y_test: (2003, 7)\n"
          ]
        }
      ],
      "source": [
        "# Split the training set into a training and validation set.  The (X_test, y_test) will be used for predictions/confusion matrix \n",
        "\n",
        "X_train, X_validate, y_train, y_validate = train_test_split(X_train, y_train, train_size=0.8) #also 0.8? for more validation loss behavior \n",
        "\n",
        "print(f\"----- Training Set Sizes -----\")\n",
        "print(f\"X_train: {X_train.shape}\\ny_train: {y_train.shape}\\n\")\n",
        "print(f\"----- Validation Set Sizes -----\")\n",
        "print(f\"X_validate: {X_validate.shape}\\ny_validate: {y_validate.shape}\\n\")\n",
        "print(f\"----- Test/Prediction Set Sizes -----\")\n",
        "print(f\"X_test: {X_test.shape}\\ny_test: {y_test.shape}\")"
      ]
    },
    {
      "cell_type": "code",
      "execution_count": 13,
      "metadata": {
        "colab": {
          "base_uri": "https://localhost:8080/",
          "height": 399
        },
        "id": "AdkOC11REMQA",
        "outputId": "76212c17-cb35-4ed9-a7cc-91383603abbd"
      },
      "outputs": [
        {
          "name": "stdout",
          "output_type": "stream",
          "text": [
            "----- Displaying Sample Images from Train Set ------\n",
            "Location: (0, 0): [0. 0. 0. 0. 0. 0. 1.]\n",
            "Location: (0, 1): [0. 0. 0. 1. 0. 0. 0.]\n",
            "Location: (1, 0): [0. 1. 0. 0. 0. 0. 0.]\n",
            "Location: (1, 1): [0. 1. 0. 0. 0. 0. 0.]\n",
            "\n"
          ]
        },
        {
          "data": {
            "image/png": "[encoded data removed]",
            "text/plain": [
              "<Figure size 432x288 with 4 Axes>"
            ]
          },
          "metadata": {
            "needs_background": "light"
          },
          "output_type": "display_data"
        }
      ],
      "source": [
        "# Show Sample Images from Training Set \n",
        "figure, axes = plt.pyplot.subplots(2, 2)\n",
        "train_set_size = X_train.shape[0]\n",
        "tumor_types = \"\"\n",
        "for i in range(2):\n",
        "  for j in range(2):\n",
        "    k = np.random.choice(np.arange(train_set_size))\n",
        "    axes[i, j].imshow(X_train[k])\n",
        "    tumor_types += f\"Location: ({i}, {j}): {y_train[k]}\\n\"\n",
        "print(\"----- Displaying Sample Images from Train Set ------\")\n",
        "plt.pyplot.tight_layout()\n",
        "print(tumor_types)"
      ]
    },
    {
      "cell_type": "code",
      "execution_count": 22,
      "metadata": {
        "colab": {
          "base_uri": "https://localhost:8080/"
        },
        "id": "Y9YznnugFrmy",
        "outputId": "0eefbba0-dafd-4de8-9de7-5c412a47dbc4"
      },
      "outputs": [
        {
          "ename": "NameError",
          "evalue": "name 'tensorflow' is not defined",
          "output_type": "error",
          "traceback": [
            "\u001b[0;31m---------------------------------------------------------------------------\u001b[0m",
            "\u001b[0;31mNameError\u001b[0m                                 Traceback (most recent call last)",
            "\u001b[0;32m<ipython-input-22-6132177012e8>\u001b[0m in \u001b[0;36m<module>\u001b[0;34m\u001b[0m\n\u001b[1;32m      8\u001b[0m \u001b[0;31m#Model decision:\u001b[0m\u001b[0;34m\u001b[0m\u001b[0;34m\u001b[0m\u001b[0;34m\u001b[0m\u001b[0m\n\u001b[1;32m      9\u001b[0m \u001b[0;31m# model = model_defs.basic_conv_2_stage(convolution_window=CONV_WINDOW)\u001b[0m\u001b[0;34m\u001b[0m\u001b[0;34m\u001b[0m\u001b[0;34m\u001b[0m\u001b[0m\n\u001b[0;32m---> 10\u001b[0;31m \u001b[0mmodel\u001b[0m \u001b[0;34m=\u001b[0m \u001b[0mmodel_defs\u001b[0m\u001b[0;34m.\u001b[0m\u001b[0mmodded_VGG\u001b[0m\u001b[0;34m(\u001b[0m\u001b[0;34m)\u001b[0m\u001b[0;34m\u001b[0m\u001b[0;34m\u001b[0m\u001b[0m\n\u001b[0m\u001b[1;32m     11\u001b[0m \u001b[0;34m\u001b[0m\u001b[0m\n\u001b[1;32m     12\u001b[0m \u001b[0;34m\u001b[0m\u001b[0m\n",
            "\u001b[0;32m~/dev/4641/project/CS-4641/models/model_defs.py\u001b[0m in \u001b[0;36mmodded_VGG\u001b[0;34m()\u001b[0m\n\u001b[1;32m     39\u001b[0m     \u001b[0mvgg_model\u001b[0m \u001b[0;34m=\u001b[0m \u001b[0mVGG16\u001b[0m\u001b[0;34m(\u001b[0m\u001b[0mweights\u001b[0m\u001b[0;34m=\u001b[0m\u001b[0;34m'imagenet'\u001b[0m\u001b[0;34m)\u001b[0m\u001b[0;34m\u001b[0m\u001b[0;34m\u001b[0m\u001b[0m\n\u001b[1;32m     40\u001b[0m     \u001b[0mprint\u001b[0m\u001b[0;34m(\u001b[0m\u001b[0mtype\u001b[0m\u001b[0;34m(\u001b[0m\u001b[0mvgg_model\u001b[0m\u001b[0;34m)\u001b[0m\u001b[0;34m)\u001b[0m\u001b[0;34m\u001b[0m\u001b[0;34m\u001b[0m\u001b[0m\n\u001b[0;32m---> 41\u001b[0;31m     \u001b[0;31m# vgg_output_layer = vgg_model.output\u001b[0m\u001b[0;34m\u001b[0m\u001b[0;34m\u001b[0m\u001b[0;34m\u001b[0m\u001b[0m\n\u001b[0m\u001b[1;32m     42\u001b[0m     \u001b[0;31m# g = GlobalMaxPooling2D()(vgg_output_layer)\u001b[0m\u001b[0;34m\u001b[0m\u001b[0;34m\u001b[0m\u001b[0;34m\u001b[0m\u001b[0m\n\u001b[1;32m     43\u001b[0m \u001b[0;34m\u001b[0m\u001b[0m\n",
            "\u001b[0;31mNameError\u001b[0m: name 'tensorflow' is not defined"
          ]
        }
      ],
      "source": [
        "### Create the NN Model \n",
        "\n",
        "#Fixed things\n",
        "CONV_WINDOW = (3,3)\n",
        "\n",
        "from models import model_defs\n",
        "\n",
        "#Model decision:\n",
        "# model = model_defs.basic_conv_2_stage(convolution_window=CONV_WINDOW)\n",
        "model = model_defs.modded_VGG()\n",
        "\n",
        "\n",
        "model.summary()"
      ]
    },
    {
      "cell_type": "code",
      "execution_count": null,
      "metadata": {
        "id": "XaFpm0O8KxBN"
      },
      "outputs": [],
      "source": [
        "from keras import backend as K\n",
        "def recall(y_true, y_pred):\n",
        "    true_positives = K.sum(K.round(K.clip(y_true * y_pred, 0, 1)))\n",
        "    possible_positives = K.sum(K.round(K.clip(y_true, 0, 1)))\n",
        "    recall = true_positives / (possible_positives + K.epsilon())\n",
        "    return recall\n",
        "\n",
        "def prec(y_true, y_pred):\n",
        "    true_positives = K.sum(K.round(K.clip(y_true * y_pred, 0, 1)))\n",
        "    predicted_positives = K.sum(K.round(K.clip(y_pred, 0, 1)))\n",
        "    precision = true_positives / (predicted_positives + K.epsilon())\n",
        "    return precision\n",
        "\n",
        "def f1(y_true, y_pred):\n",
        "    p = prec(y_true, y_pred)\n",
        "    r = recall(y_true, y_pred)\n",
        "    return 2*((p*r)/(p+r+K.epsilon()))\n",
        "\n",
        "model.compile(loss='categorical_crossentropy', optimizer='adam', metrics=['accuracy', f1])"
      ]
    },
    {
      "cell_type": "code",
      "execution_count": null,
      "metadata": {
        "id": "zEieN0xGLih5"
      },
      "outputs": [],
      "source": [
        "#Callbacks used to stop learning early\n",
        "learning_rate_reduction = ReduceLROnPlateau(monitor='val_f1', \n",
        "                                            patience=10, \n",
        "                                            verbose=1, \n",
        "                                            factor=0.5, \n",
        "                                            min_lr=0.00001)\n",
        "early_stop = EarlyStopping(monitor='val_f1', mode='max', verbose=1, patience=10)"
      ]
    },
    {
      "cell_type": "code",
      "execution_count": null,
      "metadata": {
        "id": "2FYE4zgtM6yj"
      },
      "outputs": [],
      "source": [
        "#Image data generator, used to create a wider variety of images from the train set \n",
        "gen = ImageDataGenerator(\n",
        "    featurewise_center=False, \n",
        "    samplewise_center=False,\n",
        "    featurewise_std_normalization=False, \n",
        "    samplewise_std_normalization=False,\n",
        "    zca_whitening=False, \n",
        "    \n",
        "    rotation_range=30, \n",
        "    width_shift_range=0.1,\n",
        "    height_shift_range=0.1, \n",
        "    zoom_range=0.1,\n",
        "    horizontal_flip=False, vertical_flip=False\n",
        ")\n",
        "gen.fit(X_train)"
      ]
    },
    {
      "cell_type": "code",
      "execution_count": null,
      "metadata": {
        "colab": {
          "base_uri": "https://localhost:8080/"
        },
        "id": "d1eutrtDM-QU",
        "outputId": "5b56735f-f589-42e3-ca08-8ac9b23f0e95"
      },
      "outputs": [],
      "source": [
        "# Fit the neural network model using our callbacks and an expanded dataset using imageGenerator\n",
        "\n",
        "MAX_EPOCH = 75\n",
        "BATCH_SIZE=32 #smaller batch size than previous model \n",
        "VALIDATION_DATA = (X_validate, y_validate)\n",
        "STEPS_PER_EPOCH = X_train.shape[0] // BATCH_SIZE\n",
        "CALLBACKS = [learning_rate_reduction, early_stop]\n",
        "\n",
        "training_history = model.fit_generator(\n",
        "    gen.flow(X_train, y_train, batch_size=BATCH_SIZE),\n",
        "    steps_per_epoch=STEPS_PER_EPOCH,\n",
        "    epochs=MAX_EPOCH,\n",
        "    verbose=1,\n",
        "    callbacks=CALLBACKS,\n",
        "    validation_data=VALIDATION_DATA\n",
        ")"
      ]
    },
    {
      "cell_type": "code",
      "execution_count": null,
      "metadata": {
        "colab": {
          "base_uri": "https://localhost:8080/"
        },
        "id": "TuZHF7VkSKvn",
        "outputId": "11423504-0481-49f2-ee89-881a94cd22ea"
      },
      "outputs": [],
      "source": [
        "loss, accuracy, *all_others = model.evaluate(X_test, y_test, verbose=1)\n",
        "loss_v, accuracy_v, *all_others_2 = model.evaluate(X_validate, y_validate, verbose=1)\n",
        "print(\"Validation: accuracy = %f  ;  loss_v = %f\" % (accuracy_v, loss_v))\n",
        "print(\"Test: accuracy = %f  ;  loss = %f\" % (accuracy, loss))"
      ]
    },
    {
      "cell_type": "code",
      "execution_count": null,
      "metadata": {
        "colab": {
          "base_uri": "https://localhost:8080/",
          "height": 421
        },
        "id": "zfy48VjOSxzb",
        "outputId": "423ff262-1bf5-48aa-d337-90720a37151c"
      },
      "outputs": [],
      "source": [
        "def plot_model_history(model_history):\n",
        "    fig, axs = plt.pyplot.subplots(1,2,figsize=(15,5))\n",
        "    # summarize history for accuracy\n",
        "    axs[0].plot(range(1,len(model_history.history['accuracy'])+1),model_history.history['accuracy'])\n",
        "    axs[0].plot(range(1,len(model_history.history['val_accuracy'])+1),model_history.history['val_accuracy'])\n",
        "    axs[0].set_title('Model Accuracy')\n",
        "    axs[0].set_ylabel('Accuracy')\n",
        "    axs[0].set_xlabel('Epoch')\n",
        "    axs[0].set_xticks(np.arange(1,len(model_history.history['accuracy'])+1),len(model_history.history['accuracy'])/10)\n",
        "    axs[0].legend(['train', 'val'], loc='best')\n",
        "    # summarize history for loss\n",
        "    axs[1].plot(range(1,len(model_history.history['loss'])+1),model_history.history['loss'])\n",
        "    axs[1].plot(range(1,len(model_history.history['val_loss'])+1),model_history.history['val_loss'])\n",
        "    axs[1].set_title('Model Loss')\n",
        "    axs[1].set_ylabel('Loss')\n",
        "    axs[1].set_xlabel('Epoch')\n",
        "    axs[1].set_xticks(np.arange(1,len(model_history.history['loss'])+1),len(model_history.history['loss'])/10)\n",
        "    axs[1].legend(['train', 'val'], loc='best')\n",
        "    plt.pyplot.show()\n",
        "\n",
        "\n",
        "plot_model_history(training_history)"
      ]
    },
    {
      "cell_type": "code",
      "execution_count": null,
      "metadata": {
        "id": "p_usrR3kWS--"
      },
      "outputs": [],
      "source": [
        "# Test the model with X_Test and y_Test\n",
        "#Use a confusion matrix to see the number of incorrect predictions \n",
        "\n",
        "y_predicted = model.predict(X_test)\n",
        "predicted_classes = np.argmax(y_predicted, axis=1)\n",
        "actual_classes = np.argmax(y_test, axis=1)"
      ]
    },
    {
      "cell_type": "code",
      "execution_count": null,
      "metadata": {
        "id": "bZoHHlsHXe-1"
      },
      "outputs": [],
      "source": [
        "from sklearn.metrics import confusion_matrix \n",
        "\n",
        "matrix = confusion_matrix(actual_classes, predicted_classes,)\n",
        "fmatrix = matrix\n",
        "# fmatrix = matrix.astype('float') / matrix.sum(axis=1)"
      ]
    },
    {
      "cell_type": "code",
      "execution_count": null,
      "metadata": {
        "colab": {
          "base_uri": "https://localhost:8080/",
          "height": 445
        },
        "id": "1G9dEOpWX6fW",
        "outputId": "00a4536b-6a5d-49d9-9621-f47006e93001"
      },
      "outputs": [],
      "source": [
        "import seaborn as sns \n",
        "plt.pyplot.figure(figsize = (10,7))\n",
        "\n",
        "sns.heatmap(fmatrix, annot=True, fmt='.2f', cmap=\"YlGnBu\")"
      ]
    },
    {
      "cell_type": "code",
      "execution_count": null,
      "metadata": {
        "id": "Xuf17MJC_-3F"
      },
      "outputs": [],
      "source": []
    }
  ],
  "metadata": {
    "accelerator": "GPU",
    "colab": {
      "collapsed_sections": [],
      "name": "main.ipynb",
      "provenance": []
    },
    "kernelspec": {
      "display_name": "Python 3",
      "name": "python3"
    },
    "language_info": {
      "codemirror_mode": {
        "name": "ipython",
        "version": 3
      },
      "file_extension": ".py",
      "mimetype": "text/x-python",
      "name": "python",
      "nbconvert_exporter": "python",
      "pygments_lexer": "ipython3",
      "version": "3.7.10"
    }
  },
  "nbformat": 4,
  "nbformat_minor": 0
}
