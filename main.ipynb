{
  "cells": [
    {
      "cell_type": "code",
      "execution_count": 11,
      "metadata": {
        "id": "mI8-uw-w3NOl"
      },
      "outputs": [],
      "source": [
        "\"\"\"\n",
        "    Import necessary packages in python \n",
        "\"\"\"\n",
        "%matplotlib inline\n",
        "import os\n",
        "import sys \n",
        "import numpy as np \n",
        "import matplotlib as plt\n",
        "from sklearn.model_selection import train_test_split\n",
        "import seaborn\n",
        "import tensorflow as tf\n",
        "from tensorflow.keras.layers import Input, Conv2D, MaxPooling2D, BatchNormalization, Flatten, Dropout, Dense\n",
        "from tensorflow.keras.callbacks import EarlyStopping, ModelCheckpoint, ReduceLROnPlateau\n",
        "from tensorflow.keras.preprocessing.image import ImageDataGenerator\n",
        "from PIL import Image"
      ]
    },
    {
      "cell_type": "code",
      "execution_count": 12,
      "metadata": {
        "colab": {
          "base_uri": "https://localhost:8080/"
        },
        "id": "fbfjFsN33dt4",
        "outputId": "aa125e1f-0eff-4f9b-963a-ca4ba1858545"
      },
      "outputs": [
        {
          "name": "stdout",
          "output_type": "stream",
          "text": [
            "Found HAM10000 metadata file, loading into pandas df\n",
            "Done\n",
            "Found HAM10000 RGB images in size 28x28, reading into df\n",
            "Done\n"
          ]
        }
      ],
      "source": [
        "\"\"\"\n",
        "OS Paths for loading dataset and assets\n",
        "\"\"\"\n",
        "cwd = os.getcwd()\n",
        "\n",
        "DATA_PATH = os.path.join(cwd, \"data\")\n",
        "UTILS_PATH = os.path.join(cwd, \"utils\")\n",
        "MODELS_PATH = os.path.join(cwd, \"models\")\n",
        "\n",
        "## Add the utils path \n",
        "sys.path.append(UTILS_PATH)\n",
        "sys.path.append(MODELS_PATH)\n",
        "\n",
        "#Use the utils path to load our data loader methods \n",
        "from utils import data_loader\n",
        "\n",
        "hmnist_metadata = data_loader.load_HAM10000_metadata(DATA_PATH)\n",
        "# Quick test:\n",
        "# for f in os.listdir(DATA_PATH):\n",
        "#     print(os.path.join(DATA_PATH, f))\n",
        "\n",
        "#Import data \n",
        "# import \n",
        "# metadata = pd.read_csv(os.path.join(DATA_PATH, \"HAM10000_metadata.csv\"))\n",
        "# hmnist8_8_L = data_loader.load_HAM10000_L(DATA_PATH)\n",
        "\n",
        "hmnist_28_28_RGB = data_loader.load_HAM10000_RGB(DATA_PATH, False)"
      ]
    },
    {
      "cell_type": "code",
      "execution_count": 13,
      "metadata": {
        "colab": {
          "base_uri": "https://localhost:8080/"
        },
        "id": "8nKTqDmb3tZE",
        "outputId": "3a8b8842-f793-4de0-ee13-a8307327c2df"
      },
      "outputs": [
        {
          "data": {
            "text/plain": [
              "(10015, 2353)"
            ]
          },
          "execution_count": 13,
          "metadata": {},
          "output_type": "execute_result"
        }
      ],
      "source": [
        "hmnist_28_28_RGB.shape"
      ]
    },
    {
      "cell_type": "code",
      "execution_count": 14,
      "metadata": {
        "colab": {
          "base_uri": "https://localhost:8080/",
          "height": 520
        },
        "id": "sHp-Qefb3gbu",
        "outputId": "1385f14f-a21f-4c3b-f0e2-4ae028bc0df8"
      },
      "outputs": [
        {
          "name": "stdout",
          "output_type": "stream",
          "text": [
            "Size: (10015, 7)\n",
            "Duplicates: 0\n",
            "Nulls: \n",
            "lesion_id        0\n",
            "image_id         0\n",
            "dx               0\n",
            "dx_type          0\n",
            "age             57\n",
            "sex              0\n",
            "localization     0\n",
            "dtype: int64\n",
            "\n",
            "Nans: (57, 7)\n"
          ]
        },
        {
          "data": {
            "text/plain": [
              "<AxesSubplot:xlabel='label', ylabel='count'>"
            ]
          },
          "execution_count": 14,
          "metadata": {},
          "output_type": "execute_result"
        },
        {
          "data": {
            "image/png": "[encoded data removed]",
            "text/plain": [
              "<Figure size 432x288 with 1 Axes>"
            ]
          },
          "metadata": {
            "needs_background": "light"
          },
          "output_type": "display_data"
        }
      ],
      "source": [
        "#EDA portion: \n",
        "def eda(dataframe):\n",
        "    size = dataframe.shape\n",
        "    duplicates = dataframe.duplicated().sum()\n",
        "    nulls = dataframe.isnull().sum()\n",
        "    nans = dataframe.isnull().any(axis=1)\n",
        "    rows_with_nans = dataframe[nans]\n",
        "\n",
        "    return print(f\"Size: {size}\\nDuplicates: {duplicates}\\nNulls: \\n{nulls}\\n\\nNans: {rows_with_nans.shape}\")\n",
        "    \n",
        "\n",
        "eda(hmnist_metadata)\n",
        "\n",
        "\n",
        "labels = hmnist_28_28_RGB[\"label\"]\n",
        "plt.figure.Figure()\n",
        "seaborn.countplot(x=labels)"
      ]
    },
    {
      "cell_type": "code",
      "execution_count": 15,
      "metadata": {
        "id": "7e81oxMp_f5D"
      },
      "outputs": [],
      "source": [
        "# resize the feature array\n",
        "hmnist_28_28_RGB_feats = hmnist_28_28_RGB.drop(columns=[\"label\"])\n",
        "hmnist_reshape = np.array(hmnist_28_28_RGB_feats).reshape(-1, 28, 28, 3)"
      ]
    },
    {
      "cell_type": "code",
      "execution_count": 16,
      "metadata": {
        "colab": {
          "base_uri": "https://localhost:8080/"
        },
        "id": "xNmVPCQOAE0T",
        "outputId": "d0e0e263-3326-4e98-d597-f373bc66485c"
      },
      "outputs": [
        {
          "name": "stdout",
          "output_type": "stream",
          "text": [
            "Reshaped Feature Set Shape: (10015, 28, 28, 3)\n",
            "Label Set Shape: (10015,)\n"
          ]
        }
      ],
      "source": [
        "print(f\"Reshaped Feature Set Shape: {hmnist_reshape.shape}\")\n",
        "print(f\"Label Set Shape: {labels.shape}\")"
      ]
    },
    {
      "cell_type": "code",
      "execution_count": 28,
      "metadata": {},
      "outputs": [
        {
          "name": "stdout",
          "output_type": "stream",
          "text": [
            "<class 'numpy.ndarray'>\n"
          ]
        }
      ],
      "source": [
        "image_0 = hmnist_reshape[0].astype(np.uint8)\n",
        "print(type(image_0))\n",
        "i_0 = Image.fromarray(image_0)\n",
        "i_0.show()"
      ]
    },
    {
      "cell_type": "code",
      "execution_count": null,
      "metadata": {
        "id": "6p19EkIgAQ8B"
      },
      "outputs": [],
      "source": [
        "#Train Test Split \n",
        "X_train, X_test, y_train, y_test = train_test_split(hmnist_reshape, labels, train_size=0.8)#"
      ]
    },
    {
      "cell_type": "code",
      "execution_count": null,
      "metadata": {
        "id": "5J8vpA5SBnP-"
      },
      "outputs": [],
      "source": [
        "# Create an encoding of the labels into one-hot array\n",
        "\n",
        "y_train = tf.keras.utils.to_categorical(y_train, num_classes=7)\n",
        "y_test = tf.keras.utils.to_categorical(y_test, num_classes=7)"
      ]
    },
    {
      "cell_type": "code",
      "execution_count": null,
      "metadata": {
        "colab": {
          "base_uri": "https://localhost:8080/"
        },
        "id": "U6NQY_LcCzVx",
        "outputId": "15d62752-1e31-4cb1-e327-3576237c3db1"
      },
      "outputs": [
        {
          "name": "stdout",
          "output_type": "stream",
          "text": [
            "Shapes: \n",
            " \tX_train: (8012, 28, 28, 3)\n",
            "\ty_train: (8012, 7)\n",
            "\tX_test: (2003, 28, 28, 3)\n",
            "\ty_test: (2003, 7)\n"
          ]
        }
      ],
      "source": [
        "print(f\"Shapes: \\n \\tX_train: {X_train.shape}\\n\\ty_train: {y_train.shape}\\n\\tX_test: {X_test.shape}\\n\\ty_test: {y_test.shape}\")"
      ]
    },
    {
      "cell_type": "code",
      "execution_count": null,
      "metadata": {
        "colab": {
          "base_uri": "https://localhost:8080/"
        },
        "id": "4SRSzfanC0yO",
        "outputId": "b52e9ecc-1f5e-42ae-d684-67748c7752cc"
      },
      "outputs": [
        {
          "name": "stdout",
          "output_type": "stream",
          "text": [
            "----- Training Set Sizes -----\n",
            "X_train: (5768, 28, 28, 3)\n",
            "y_train: (5768, 7)\n",
            "\n",
            "----- Validation Set Sizes -----\n",
            "X_validate: (1442, 28, 28, 3)\n",
            "y_validate: (1442, 7)\n",
            "\n",
            "----- Test/Prediction Set Sizes -----\n",
            "X_test: (2003, 28, 28, 3)\n",
            "y_test: (2003, 7)\n"
          ]
        }
      ],
      "source": [
        "# Split the training set into a training and validation set.  The (X_test, y_test) will be used for predictions/confusion matrix \n",
        "\n",
        "X_train, X_validate, y_train, y_validate = train_test_split(X_train, y_train, train_size=0.8) #also 0.8? for more validation loss behavior \n",
        "\n",
        "print(f\"----- Training Set Sizes -----\")\n",
        "print(f\"X_train: {X_train.shape}\\ny_train: {y_train.shape}\\n\")\n",
        "print(f\"----- Validation Set Sizes -----\")\n",
        "print(f\"X_validate: {X_validate.shape}\\ny_validate: {y_validate.shape}\\n\")\n",
        "print(f\"----- Test/Prediction Set Sizes -----\")\n",
        "print(f\"X_test: {X_test.shape}\\ny_test: {y_test.shape}\")"
      ]
    },
    {
      "cell_type": "code",
      "execution_count": null,
      "metadata": {
        "colab": {
          "base_uri": "https://localhost:8080/",
          "height": 399
        },
        "id": "AdkOC11REMQA",
        "outputId": "76212c17-cb35-4ed9-a7cc-91383603abbd"
      },
      "outputs": [
        {
          "name": "stdout",
          "output_type": "stream",
          "text": [
            "----- Displaying Sample Images from Train Set ------\n",
            "Location: (0, 0): [0. 0. 0. 0. 1. 0. 0.]\n",
            "Location: (0, 1): [1. 0. 0. 0. 0. 0. 0.]\n",
            "Location: (1, 0): [0. 0. 0. 0. 1. 0. 0.]\n",
            "Location: (1, 1): [0. 0. 0. 0. 1. 0. 0.]\n",
            "\n"
          ]
        },
        {
          "data": {
            "image/png": "[encoded data removed]",
            "text/plain": [
              "<Figure size 432x288 with 4 Axes>"
            ]
          },
          "metadata": {
            "needs_background": "light"
          },
          "output_type": "display_data"
        }
      ],
      "source": [
        "# Show Sample Images from Training Set \n",
        "figure, axes = plt.pyplot.subplots(2, 2)\n",
        "train_set_size = X_train.shape[0]\n",
        "tumor_types = \"\"\n",
        "for i in range(2):\n",
        "  for j in range(2):\n",
        "    k = np.random.choice(np.arange(train_set_size))\n",
        "    axes[i, j].imshow(X_train[k])\n",
        "    tumor_types += f\"Location: ({i}, {j}): {y_train[k]}\\n\"\n",
        "print(\"----- Displaying Sample Images from Train Set ------\")\n",
        "plt.pyplot.tight_layout()\n",
        "print(tumor_types)"
      ]
    },
    {
      "cell_type": "code",
      "execution_count": null,
      "metadata": {
        "colab": {
          "base_uri": "https://localhost:8080/"
        },
        "id": "Y9YznnugFrmy",
        "outputId": "0eefbba0-dafd-4de8-9de7-5c412a47dbc4"
      },
      "outputs": [
        {
          "name": "stdout",
          "output_type": "stream",
          "text": [
            "Model: \"sequential\"\n",
            "_________________________________________________________________\n",
            " Layer (type)                Output Shape              Param #   \n",
            "=================================================================\n",
            " conv2d (Conv2D)             (None, 14, 14, 32)        896       \n",
            "                                                                 \n",
            " conv2d_1 (Conv2D)           (None, 14, 14, 32)        9248      \n",
            "                                                                 \n",
            " max_pooling2d (MaxPooling2D  (None, 7, 7, 32)         0         \n",
            " )                                                               \n",
            "                                                                 \n",
            " batch_normalization (BatchN  (None, 7, 7, 32)         128       \n",
            " ormalization)                                                   \n",
            "                                                                 \n",
            " dropout (Dropout)           (None, 7, 7, 32)          0         \n",
            "                                                                 \n",
            " conv2d_2 (Conv2D)           (None, 7, 7, 64)          18496     \n",
            "                                                                 \n",
            " conv2d_3 (Conv2D)           (None, 7, 7, 64)          36928     \n",
            "                                                                 \n",
            " max_pooling2d_1 (MaxPooling  (None, 3, 3, 64)         0         \n",
            " 2D)                                                             \n",
            "                                                                 \n",
            " batch_normalization_1 (Batc  (None, 3, 3, 64)         256       \n",
            " hNormalization)                                                 \n",
            "                                                                 \n",
            " dropout_1 (Dropout)         (None, 3, 3, 64)          0         \n",
            "                                                                 \n",
            " flatten (Flatten)           (None, 576)               0         \n",
            "                                                                 \n",
            " dense (Dense)               (None, 64)                36928     \n",
            "                                                                 \n",
            " dropout_2 (Dropout)         (None, 64)                0         \n",
            "                                                                 \n",
            " dense_1 (Dense)             (None, 32)                2080      \n",
            "                                                                 \n",
            " dropout_3 (Dropout)         (None, 32)                0         \n",
            "                                                                 \n",
            " dense_2 (Dense)             (None, 7)                 231       \n",
            "                                                                 \n",
            "=================================================================\n",
            "Total params: 105,191\n",
            "Trainable params: 104,999\n",
            "Non-trainable params: 192\n",
            "_________________________________________________________________\n"
          ]
        }
      ],
      "source": [
        "### Create the NN Model \n",
        "\n",
        "#Fixed things\n",
        "CONV_WINDOW = (3,3)\n",
        "\n",
        "from models import model_defs\n",
        "\n",
        "#Model decision:\n",
        "model = model_defs.basic_conv_2_stage(convolution_window=CONV_WINDOW)\n",
        "\n",
        "\n",
        "model.summary()"
      ]
    },
    {
      "cell_type": "code",
      "execution_count": null,
      "metadata": {
        "id": "XaFpm0O8KxBN"
      },
      "outputs": [],
      "source": [
        "from keras import backend as K\n",
        "def recall(y_true, y_pred):\n",
        "    true_positives = K.sum(K.round(K.clip(y_true * y_pred, 0, 1)))\n",
        "    possible_positives = K.sum(K.round(K.clip(y_true, 0, 1)))\n",
        "    recall = true_positives / (possible_positives + K.epsilon())\n",
        "    return recall\n",
        "\n",
        "def prec(y_true, y_pred):\n",
        "    true_positives = K.sum(K.round(K.clip(y_true * y_pred, 0, 1)))\n",
        "    predicted_positives = K.sum(K.round(K.clip(y_pred, 0, 1)))\n",
        "    precision = true_positives / (predicted_positives + K.epsilon())\n",
        "    return precision\n",
        "\n",
        "def f1(y_true, y_pred):\n",
        "    p = prec(y_true, y_pred)\n",
        "    r = recall(y_true, y_pred)\n",
        "    return 2*((p*r)/(p+r+K.epsilon()))\n",
        "\n",
        "model.compile(loss='categorical_crossentropy', optimizer='adam', metrics=['accuracy', f1])"
      ]
    },
    {
      "cell_type": "code",
      "execution_count": null,
      "metadata": {
        "id": "zEieN0xGLih5"
      },
      "outputs": [],
      "source": [
        "#Callbacks used to stop learning early\n",
        "learning_rate_reduction = ReduceLROnPlateau(monitor='val_f1', \n",
        "                                            patience=10, \n",
        "                                            verbose=1, \n",
        "                                            factor=0.5, \n",
        "                                            min_lr=0.00001)\n",
        "early_stop = EarlyStopping(monitor='val_f1', mode='max', verbose=1, patience=10)"
      ]
    },
    {
      "cell_type": "code",
      "execution_count": null,
      "metadata": {
        "id": "2FYE4zgtM6yj"
      },
      "outputs": [],
      "source": [
        "#Image data generator, used to create a wider variety of images from the train set \n",
        "gen = ImageDataGenerator(\n",
        "    featurewise_center=False, \n",
        "    samplewise_center=False,\n",
        "    featurewise_std_normalization=False, \n",
        "    samplewise_std_normalization=False,\n",
        "    zca_whitening=False, \n",
        "    \n",
        "    rotation_range=30, \n",
        "    width_shift_range=0.1,\n",
        "    height_shift_range=0.1, \n",
        "    zoom_range=0.1,\n",
        "    horizontal_flip=False, vertical_flip=False\n",
        ")\n",
        "gen.fit(X_train)"
      ]
    },
    {
      "cell_type": "code",
      "execution_count": null,
      "metadata": {
        "colab": {
          "base_uri": "https://localhost:8080/"
        },
        "id": "d1eutrtDM-QU",
        "outputId": "5b56735f-f589-42e3-ca08-8ac9b23f0e95"
      },
      "outputs": [
        {
          "name": "stderr",
          "output_type": "stream",
          "text": [
            "/usr/local/lib/python3.7/dist-packages/ipykernel_launcher.py:15: UserWarning: `Model.fit_generator` is deprecated and will be removed in a future version. Please use `Model.fit`, which supports generators.\n",
            "  from ipykernel import kernelapp as app\n"
          ]
        },
        {
          "name": "stdout",
          "output_type": "stream",
          "text": [
            "Epoch 1/75\n",
            "180/180 [==============================] - 37s 34ms/step - loss: 1.4010 - accuracy: 0.5472 - f1: 0.4843 - val_loss: 1.4946 - val_accuracy: 0.6546 - val_f1: 0.6152 - lr: 0.0010\n",
            "Epoch 2/75\n",
            "180/180 [==============================] - 6s 31ms/step - loss: 1.1294 - accuracy: 0.6435 - f1: 0.5694 - val_loss: 1.0061 - val_accuracy: 0.6546 - val_f1: 0.6617 - lr: 0.0010\n",
            "Epoch 3/75\n",
            "180/180 [==============================] - 5s 30ms/step - loss: 1.0599 - accuracy: 0.6616 - f1: 0.5911 - val_loss: 1.0423 - val_accuracy: 0.6553 - val_f1: 0.5247 - lr: 0.0010\n",
            "Epoch 4/75\n",
            "180/180 [==============================] - 6s 31ms/step - loss: 1.0284 - accuracy: 0.6709 - f1: 0.6078 - val_loss: 1.0181 - val_accuracy: 0.6546 - val_f1: 0.6588 - lr: 0.0010\n",
            "Epoch 5/75\n",
            "180/180 [==============================] - 6s 32ms/step - loss: 1.0074 - accuracy: 0.6709 - f1: 0.6172 - val_loss: 1.2882 - val_accuracy: 0.6553 - val_f1: 0.6204 - lr: 0.0010\n",
            "Epoch 6/75\n",
            "180/180 [==============================] - 6s 31ms/step - loss: 0.9716 - accuracy: 0.6754 - f1: 0.6335 - val_loss: 0.9713 - val_accuracy: 0.6546 - val_f1: 0.5954 - lr: 0.0010\n",
            "Epoch 7/75\n",
            "180/180 [==============================] - 6s 32ms/step - loss: 0.9662 - accuracy: 0.6763 - f1: 0.6399 - val_loss: 1.0835 - val_accuracy: 0.6546 - val_f1: 0.5763 - lr: 0.0010\n",
            "Epoch 8/75\n",
            "180/180 [==============================] - 6s 32ms/step - loss: 0.9612 - accuracy: 0.6745 - f1: 0.6338 - val_loss: 1.3827 - val_accuracy: 0.6546 - val_f1: 0.6613 - lr: 0.0010\n",
            "Epoch 9/75\n",
            "180/180 [==============================] - 6s 32ms/step - loss: 0.9423 - accuracy: 0.6733 - f1: 0.6534 - val_loss: 0.9593 - val_accuracy: 0.6546 - val_f1: 0.6866 - lr: 0.0010\n",
            "Epoch 10/75\n",
            "180/180 [==============================] - 6s 31ms/step - loss: 0.9328 - accuracy: 0.6738 - f1: 0.6583 - val_loss: 1.7290 - val_accuracy: 0.6546 - val_f1: 0.6672 - lr: 0.0010\n",
            "Epoch 11/75\n",
            "180/180 [==============================] - 6s 32ms/step - loss: 0.9325 - accuracy: 0.6782 - f1: 0.6624 - val_loss: 1.0457 - val_accuracy: 0.6560 - val_f1: 0.6465 - lr: 0.0010\n",
            "Epoch 12/75\n",
            "180/180 [==============================] - 6s 32ms/step - loss: 0.9135 - accuracy: 0.6775 - f1: 0.6632 - val_loss: 0.9023 - val_accuracy: 0.6546 - val_f1: 0.6877 - lr: 0.0010\n",
            "Epoch 13/75\n",
            "180/180 [==============================] - ETA: 0s - loss: 0.9118 - accuracy: 0.6815 - f1: 0.6671\n",
            "Epoch 00013: ReduceLROnPlateau reducing learning rate to 0.0005000000237487257.\n",
            "180/180 [==============================] - 6s 32ms/step - loss: 0.9118 - accuracy: 0.6815 - f1: 0.6671 - val_loss: 0.8976 - val_accuracy: 0.6664 - val_f1: 0.6484 - lr: 0.0010\n",
            "Epoch 14/75\n",
            "180/180 [==============================] - 6s 31ms/step - loss: 0.8863 - accuracy: 0.6815 - f1: 0.6676 - val_loss: 1.3010 - val_accuracy: 0.6540 - val_f1: 0.6720 - lr: 5.0000e-04\n",
            "Epoch 15/75\n",
            "180/180 [==============================] - 6s 32ms/step - loss: 0.8807 - accuracy: 0.6782 - f1: 0.6775 - val_loss: 0.9668 - val_accuracy: 0.6546 - val_f1: 0.6912 - lr: 5.0000e-04\n",
            "Epoch 16/75\n",
            "180/180 [==============================] - 6s 32ms/step - loss: 0.8794 - accuracy: 0.6787 - f1: 0.6741 - val_loss: 0.8738 - val_accuracy: 0.6595 - val_f1: 0.6763 - lr: 5.0000e-04\n",
            "Epoch 17/75\n",
            "180/180 [==============================] - 6s 32ms/step - loss: 0.8668 - accuracy: 0.6794 - f1: 0.6843 - val_loss: 0.8881 - val_accuracy: 0.6574 - val_f1: 0.6905 - lr: 5.0000e-04\n",
            "Epoch 18/75\n",
            "180/180 [==============================] - 6s 32ms/step - loss: 0.8838 - accuracy: 0.6803 - f1: 0.6738 - val_loss: 0.9562 - val_accuracy: 0.6748 - val_f1: 0.6379 - lr: 5.0000e-04\n",
            "Epoch 19/75\n",
            "180/180 [==============================] - 6s 32ms/step - loss: 0.8721 - accuracy: 0.6806 - f1: 0.6787 - val_loss: 0.9408 - val_accuracy: 0.6664 - val_f1: 0.6755 - lr: 5.0000e-04\n",
            "Epoch 20/75\n",
            "180/180 [==============================] - 6s 32ms/step - loss: 0.8779 - accuracy: 0.6811 - f1: 0.6788 - val_loss: 1.0105 - val_accuracy: 0.6609 - val_f1: 0.5797 - lr: 5.0000e-04\n",
            "Epoch 21/75\n",
            "180/180 [==============================] - 6s 32ms/step - loss: 0.8655 - accuracy: 0.6848 - f1: 0.6813 - val_loss: 0.8913 - val_accuracy: 0.6553 - val_f1: 0.6904 - lr: 5.0000e-04\n",
            "Epoch 22/75\n",
            "180/180 [==============================] - 6s 33ms/step - loss: 0.8507 - accuracy: 0.6893 - f1: 0.6836 - val_loss: 0.9121 - val_accuracy: 0.6546 - val_f1: 0.6894 - lr: 5.0000e-04\n",
            "Epoch 23/75\n",
            "180/180 [==============================] - ETA: 0s - loss: 0.8645 - accuracy: 0.6871 - f1: 0.6745\n",
            "Epoch 00023: ReduceLROnPlateau reducing learning rate to 0.0002500000118743628.\n",
            "180/180 [==============================] - 6s 33ms/step - loss: 0.8645 - accuracy: 0.6871 - f1: 0.6745 - val_loss: 0.8664 - val_accuracy: 0.6671 - val_f1: 0.6839 - lr: 5.0000e-04\n",
            "Epoch 24/75\n",
            "180/180 [==============================] - 6s 32ms/step - loss: 0.8488 - accuracy: 0.6893 - f1: 0.6873 - val_loss: 0.8315 - val_accuracy: 0.6713 - val_f1: 0.6935 - lr: 2.5000e-04\n",
            "Epoch 25/75\n",
            "180/180 [==============================] - 6s 33ms/step - loss: 0.8429 - accuracy: 0.6893 - f1: 0.6822 - val_loss: 0.8878 - val_accuracy: 0.6699 - val_f1: 0.6904 - lr: 2.5000e-04\n",
            "Epoch 26/75\n",
            "180/180 [==============================] - 6s 32ms/step - loss: 0.8374 - accuracy: 0.6897 - f1: 0.6892 - val_loss: 0.8183 - val_accuracy: 0.6727 - val_f1: 0.6903 - lr: 2.5000e-04\n",
            "Epoch 27/75\n",
            "180/180 [==============================] - 6s 32ms/step - loss: 0.8403 - accuracy: 0.6885 - f1: 0.6922 - val_loss: 0.8200 - val_accuracy: 0.6768 - val_f1: 0.6965 - lr: 2.5000e-04\n",
            "Epoch 28/75\n",
            "180/180 [==============================] - 6s 32ms/step - loss: 0.8388 - accuracy: 0.6904 - f1: 0.6899 - val_loss: 0.8488 - val_accuracy: 0.6803 - val_f1: 0.6824 - lr: 2.5000e-04\n",
            "Epoch 29/75\n",
            "180/180 [==============================] - 6s 33ms/step - loss: 0.8396 - accuracy: 0.6846 - f1: 0.6840 - val_loss: 0.8316 - val_accuracy: 0.6831 - val_f1: 0.6856 - lr: 2.5000e-04\n",
            "Epoch 30/75\n",
            "180/180 [==============================] - 6s 32ms/step - loss: 0.8383 - accuracy: 0.6878 - f1: 0.6897 - val_loss: 0.8159 - val_accuracy: 0.6859 - val_f1: 0.6901 - lr: 2.5000e-04\n",
            "Epoch 31/75\n",
            "180/180 [==============================] - 6s 32ms/step - loss: 0.8448 - accuracy: 0.6963 - f1: 0.6886 - val_loss: 0.8219 - val_accuracy: 0.6734 - val_f1: 0.6988 - lr: 2.5000e-04\n",
            "Epoch 32/75\n",
            "180/180 [==============================] - 6s 31ms/step - loss: 0.8349 - accuracy: 0.6925 - f1: 0.6867 - val_loss: 0.8175 - val_accuracy: 0.6845 - val_f1: 0.6949 - lr: 2.5000e-04\n",
            "Epoch 33/75\n",
            "179/180 [============================>.] - ETA: 0s - loss: 0.8337 - accuracy: 0.6925 - f1: 0.6904\n",
            "Epoch 00033: ReduceLROnPlateau reducing learning rate to 0.0001250000059371814.\n",
            "180/180 [==============================] - 6s 32ms/step - loss: 0.8338 - accuracy: 0.6923 - f1: 0.6904 - val_loss: 0.8451 - val_accuracy: 0.7004 - val_f1: 0.6803 - lr: 2.5000e-04\n",
            "Epoch 34/75\n",
            "180/180 [==============================] - 6s 32ms/step - loss: 0.8088 - accuracy: 0.6991 - f1: 0.6992 - val_loss: 0.8099 - val_accuracy: 0.6914 - val_f1: 0.6970 - lr: 1.2500e-04\n",
            "Epoch 35/75\n",
            "180/180 [==============================] - 6s 32ms/step - loss: 0.8166 - accuracy: 0.6932 - f1: 0.6974 - val_loss: 0.8139 - val_accuracy: 0.6893 - val_f1: 0.6980 - lr: 1.2500e-04\n",
            "Epoch 36/75\n",
            "180/180 [==============================] - 6s 33ms/step - loss: 0.8194 - accuracy: 0.6965 - f1: 0.6918 - val_loss: 0.8078 - val_accuracy: 0.7032 - val_f1: 0.6864 - lr: 1.2500e-04\n",
            "Epoch 37/75\n",
            "180/180 [==============================] - 6s 32ms/step - loss: 0.8193 - accuracy: 0.6944 - f1: 0.6955 - val_loss: 0.8028 - val_accuracy: 0.6969 - val_f1: 0.6986 - lr: 1.2500e-04\n",
            "Epoch 38/75\n",
            "180/180 [==============================] - 6s 31ms/step - loss: 0.8136 - accuracy: 0.6958 - f1: 0.6965 - val_loss: 0.7980 - val_accuracy: 0.6983 - val_f1: 0.6932 - lr: 1.2500e-04\n",
            "Epoch 39/75\n",
            "180/180 [==============================] - 6s 33ms/step - loss: 0.8105 - accuracy: 0.7015 - f1: 0.6966 - val_loss: 0.7876 - val_accuracy: 0.7011 - val_f1: 0.6973 - lr: 1.2500e-04\n",
            "Epoch 40/75\n",
            "180/180 [==============================] - 6s 32ms/step - loss: 0.8092 - accuracy: 0.6960 - f1: 0.6980 - val_loss: 0.7928 - val_accuracy: 0.7011 - val_f1: 0.6940 - lr: 1.2500e-04\n",
            "Epoch 41/75\n",
            "180/180 [==============================] - 6s 32ms/step - loss: 0.8037 - accuracy: 0.6987 - f1: 0.6977 - val_loss: 0.7870 - val_accuracy: 0.7025 - val_f1: 0.6963 - lr: 1.2500e-04\n",
            "Epoch 00041: early stopping\n"
          ]
        }
      ],
      "source": [
        "# Fit the neural network model using our callbacks and an expanded dataset using imageGenerator\n",
        "\n",
        "MAX_EPOCH = 75\n",
        "BATCH_SIZE=32 #smaller batch size than previous model \n",
        "VALIDATION_DATA = (X_validate, y_validate)\n",
        "STEPS_PER_EPOCH = X_train.shape[0] // BATCH_SIZE\n",
        "CALLBACKS = [learning_rate_reduction, early_stop]\n",
        "\n",
        "training_history = model.fit_generator(\n",
        "    gen.flow(X_train, y_train, batch_size=BATCH_SIZE),\n",
        "    steps_per_epoch=STEPS_PER_EPOCH,\n",
        "    epochs=MAX_EPOCH,\n",
        "    verbose=1,\n",
        "    callbacks=CALLBACKS,\n",
        "    validation_data=VALIDATION_DATA\n",
        ")"
      ]
    },
    {
      "cell_type": "code",
      "execution_count": null,
      "metadata": {
        "colab": {
          "base_uri": "https://localhost:8080/"
        },
        "id": "TuZHF7VkSKvn",
        "outputId": "11423504-0481-49f2-ee89-881a94cd22ea"
      },
      "outputs": [
        {
          "name": "stdout",
          "output_type": "stream",
          "text": [
            "63/63 [==============================] - 0s 7ms/step - loss: 0.7681 - accuracy: 0.7179 - f1: 0.7010\n",
            "46/46 [==============================] - 0s 6ms/step - loss: 0.7870 - accuracy: 0.7025 - f1: 0.6963\n",
            "Validation: accuracy = 0.702497  ;  loss_v = 0.786998\n",
            "Test: accuracy = 0.717923  ;  loss = 0.768128\n"
          ]
        }
      ],
      "source": [
        "loss, accuracy, *all_others = model.evaluate(X_test, y_test, verbose=1)\n",
        "loss_v, accuracy_v, *all_others_2 = model.evaluate(X_validate, y_validate, verbose=1)\n",
        "print(\"Validation: accuracy = %f  ;  loss_v = %f\" % (accuracy_v, loss_v))\n",
        "print(\"Test: accuracy = %f  ;  loss = %f\" % (accuracy, loss))"
      ]
    },
    {
      "cell_type": "code",
      "execution_count": null,
      "metadata": {
        "colab": {
          "base_uri": "https://localhost:8080/",
          "height": 421
        },
        "id": "zfy48VjOSxzb",
        "outputId": "423ff262-1bf5-48aa-d337-90720a37151c"
      },
      "outputs": [
        {
          "name": "stderr",
          "output_type": "stream",
          "text": [
            "/usr/local/lib/python3.7/dist-packages/ipykernel_launcher.py:9: MatplotlibDeprecationWarning: Passing the minor parameter of set_xticks() positionally is deprecated since Matplotlib 3.2; the parameter will become keyword-only two minor releases later.\n",
            "  if __name__ == '__main__':\n",
            "/usr/local/lib/python3.7/dist-packages/ipykernel_launcher.py:17: MatplotlibDeprecationWarning: Passing the minor parameter of set_xticks() positionally is deprecated since Matplotlib 3.2; the parameter will become keyword-only two minor releases later.\n"
          ]
        },
        {
          "data": {
            "image/png": "[encoded data removed]",
            "text/plain": [
              "<Figure size 1080x360 with 2 Axes>"
            ]
          },
          "metadata": {
            "needs_background": "light"
          },
          "output_type": "display_data"
        }
      ],
      "source": [
        "def plot_model_history(model_history):\n",
        "    fig, axs = plt.pyplot.subplots(1,2,figsize=(15,5))\n",
        "    # summarize history for accuracy\n",
        "    axs[0].plot(range(1,len(model_history.history['accuracy'])+1),model_history.history['accuracy'])\n",
        "    axs[0].plot(range(1,len(model_history.history['val_accuracy'])+1),model_history.history['val_accuracy'])\n",
        "    axs[0].set_title('Model Accuracy')\n",
        "    axs[0].set_ylabel('Accuracy')\n",
        "    axs[0].set_xlabel('Epoch')\n",
        "    axs[0].set_xticks(np.arange(1,len(model_history.history['accuracy'])+1),len(model_history.history['accuracy'])/10)\n",
        "    axs[0].legend(['train', 'val'], loc='best')\n",
        "    # summarize history for loss\n",
        "    axs[1].plot(range(1,len(model_history.history['loss'])+1),model_history.history['loss'])\n",
        "    axs[1].plot(range(1,len(model_history.history['val_loss'])+1),model_history.history['val_loss'])\n",
        "    axs[1].set_title('Model Loss')\n",
        "    axs[1].set_ylabel('Loss')\n",
        "    axs[1].set_xlabel('Epoch')\n",
        "    axs[1].set_xticks(np.arange(1,len(model_history.history['loss'])+1),len(model_history.history['loss'])/10)\n",
        "    axs[1].legend(['train', 'val'], loc='best')\n",
        "    plt.pyplot.show()\n",
        "\n",
        "\n",
        "plot_model_history(training_history)"
      ]
    },
    {
      "cell_type": "code",
      "execution_count": null,
      "metadata": {
        "id": "p_usrR3kWS--"
      },
      "outputs": [],
      "source": [
        "# Test the model with X_Test and y_Test\n",
        "#Use a confusion matrix to see the number of incorrect predictions \n",
        "\n",
        "y_predicted = model.predict(X_test)\n",
        "predicted_classes = np.argmax(y_predicted, axis=1)\n",
        "actual_classes = np.argmax(y_test, axis=1)"
      ]
    },
    {
      "cell_type": "code",
      "execution_count": null,
      "metadata": {
        "id": "bZoHHlsHXe-1"
      },
      "outputs": [],
      "source": [
        "from sklearn.metrics import confusion_matrix \n",
        "\n",
        "matrix = confusion_matrix(actual_classes, predicted_classes,)\n",
        "fmatrix = matrix\n",
        "# fmatrix = matrix.astype('float') / matrix.sum(axis=1)"
      ]
    },
    {
      "cell_type": "code",
      "execution_count": null,
      "metadata": {
        "colab": {
          "base_uri": "https://localhost:8080/",
          "height": 445
        },
        "id": "1G9dEOpWX6fW",
        "outputId": "00a4536b-6a5d-49d9-9621-f47006e93001"
      },
      "outputs": [
        {
          "data": {
            "text/plain": [
              "<matplotlib.axes._subplots.AxesSubplot at 0x7f81e8e48110>"
            ]
          },
          "execution_count": 26,
          "metadata": {},
          "output_type": "execute_result"
        },
        {
          "data": {
            "image/png": "[encoded data removed]",
            "text/plain": [
              "<Figure size 720x504 with 2 Axes>"
            ]
          },
          "metadata": {
            "needs_background": "light"
          },
          "output_type": "display_data"
        }
      ],
      "source": [
        "import seaborn as sns \n",
        "plt.pyplot.figure(figsize = (10,7))\n",
        "\n",
        "sns.heatmap(fmatrix, annot=True, fmt='.2f', cmap=\"YlGnBu\")"
      ]
    },
    {
      "cell_type": "code",
      "execution_count": null,
      "metadata": {
        "id": "Xuf17MJC_-3F"
      },
      "outputs": [],
      "source": []
    }
  ],
  "metadata": {
    "accelerator": "GPU",
    "colab": {
      "collapsed_sections": [],
      "name": "main.ipynb",
      "provenance": []
    },
    "kernelspec": {
      "display_name": "Python 3",
      "name": "python3"
    },
    "language_info": {
      "codemirror_mode": {
        "name": "ipython",
        "version": 3
      },
      "file_extension": ".py",
      "mimetype": "text/x-python",
      "name": "python",
      "nbconvert_exporter": "python",
      "pygments_lexer": "ipython3",
      "version": "3.7.10"
    }
  },
  "nbformat": 4,
  "nbformat_minor": 0
}
