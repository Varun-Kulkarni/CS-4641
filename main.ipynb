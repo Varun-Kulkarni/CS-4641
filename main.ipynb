{
  "cells": [
    {
      "cell_type": "code",
      "execution_count": null,
      "metadata": {
        "id": "mI8-uw-w3NOl"
      },
      "outputs": [],
      "source": [
        "\"\"\"\n",
        "    Import necessary packages in python \n",
        "\"\"\"\n",
        "%matplotlib inline\n",
        "import os\n",
        "import sys \n",
        "import numpy as np \n",
        "import matplotlib as plt\n",
        "from sklearn.model_selection import train_test_split\n",
        "import seaborn\n",
        "import tensorflow as tf\n",
        "from tensorflow.keras.layers import Input, Conv2D, MaxPooling2D, BatchNormalization, Flatten, Dropout, Dense\n",
        "from tensorflow.keras.callbacks import EarlyStopping, ModelCheckpoint, ReduceLROnPlateau\n",
        "from tensorflow.keras.preprocessing.image import ImageDataGenerator\n"
      ]
    },
    {
      "cell_type": "code",
      "execution_count": null,
      "metadata": {
        "colab": {
          "base_uri": "https://localhost:8080/"
        },
        "id": "fbfjFsN33dt4",
        "outputId": "4c03317f-5356-48be-c2c4-abe7ab97e7dc"
      },
      "outputs": [
        {
          "name": "stdout",
          "output_type": "stream",
          "text": [
            "Found HAM10000 metadata file, loading into pandas df\n",
            "Done\n",
            "Found HAM10000 RGB images in size 28x28, reading into df\n",
            "Done\n"
          ]
        }
      ],
      "source": [
        "\"\"\"\n",
        "OS Paths for loading dataset and assets\n",
        "\"\"\"\n",
        "cwd = os.getcwd()\n",
        "\n",
        "DATA_PATH = os.path.join(cwd, \"data\")\n",
        "UTILS_PATH = os.path.join(cwd, \"utils\")\n",
        "\n",
        "## Add the utils path \n",
        "sys.path.append(UTILS_PATH)\n",
        "\n",
        "#Use the utils path to load our data loader methods \n",
        "from utils import data_loader\n",
        "\n",
        "hmnist_metadata = data_loader.load_HAM10000_metadata(DATA_PATH)\n",
        "# Quick test:\n",
        "# for f in os.listdir(DATA_PATH):\n",
        "#     print(os.path.join(DATA_PATH, f))\n",
        "\n",
        "#Import data \n",
        "# import \n",
        "# metadata = pd.read_csv(os.path.join(DATA_PATH, \"HAM10000_metadata.csv\"))\n",
        "# hmnist8_8_L = data_loader.load_HAM10000_L(DATA_PATH)\n",
        "\n",
        "hmnist_28_28_RGB = data_loader.load_HAM10000_RGB(DATA_PATH, False)"
      ]
    },
    {
      "cell_type": "code",
      "execution_count": null,
      "metadata": {
        "colab": {
          "base_uri": "https://localhost:8080/"
        },
        "id": "8nKTqDmb3tZE",
        "outputId": "40e4facf-1c60-4175-f242-5f2f7478f921"
      },
      "outputs": [
        {
          "data": {
            "text/plain": [
              "(10015, 2353)"
            ]
          },
          "execution_count": 3,
          "metadata": {},
          "output_type": "execute_result"
        }
      ],
      "source": [
        "hmnist_28_28_RGB.shape"
      ]
    },
    {
      "cell_type": "code",
      "execution_count": null,
      "metadata": {
        "colab": {
          "base_uri": "https://localhost:8080/",
          "height": 520
        },
        "id": "sHp-Qefb3gbu",
        "outputId": "beff01fe-d243-4509-a364-90d3b8e83fac"
      },
      "outputs": [
        {
          "name": "stdout",
          "output_type": "stream",
          "text": [
            "Size: (10015, 7)\n",
            "Duplicates: 0\n",
            "Nulls: \n",
            "lesion_id        0\n",
            "image_id         0\n",
            "dx               0\n",
            "dx_type          0\n",
            "age             57\n",
            "sex              0\n",
            "localization     0\n",
            "dtype: int64\n",
            "\n",
            "Nans: (57, 7)\n"
          ]
        },
        {
          "data": {
            "text/plain": [
              "<matplotlib.axes._subplots.AxesSubplot at 0x7f8e2bb5b4d0>"
            ]
          },
          "execution_count": 4,
          "metadata": {},
          "output_type": "execute_result"
        },
        {
          "data": {
            "image/png": "[encoded data removed]",
            "text/plain": [
              "<Figure size 432x288 with 1 Axes>"
            ]
          },
          "metadata": {
            "needs_background": "light"
          },
          "output_type": "display_data"
        }
      ],
      "source": [
        "#EDA portion: \n",
        "def eda(dataframe):\n",
        "    size = dataframe.shape\n",
        "    duplicates = dataframe.duplicated().sum()\n",
        "    nulls = dataframe.isnull().sum()\n",
        "    nans = dataframe.isnull().any(axis=1)\n",
        "    rows_with_nans = dataframe[nans]\n",
        "\n",
        "    return print(f\"Size: {size}\\nDuplicates: {duplicates}\\nNulls: \\n{nulls}\\n\\nNans: {rows_with_nans.shape}\")\n",
        "    \n",
        "\n",
        "eda(hmnist_metadata)\n",
        "\n",
        "\n",
        "labels = hmnist_28_28_RGB[\"label\"]\n",
        "plt.figure.Figure()\n",
        "seaborn.countplot(x=labels)"
      ]
    },
    {
      "cell_type": "code",
      "execution_count": null,
      "metadata": {
        "id": "7e81oxMp_f5D"
      },
      "outputs": [],
      "source": [
        "# resize the feature array\n",
        "hmnist_28_28_RGB_feats = hmnist_28_28_RGB.drop(columns=[\"label\"])\n",
        "hmnist_reshape = np.array(hmnist_28_28_RGB_feats).reshape(-1, 28, 28, 3)"
      ]
    },
    {
      "cell_type": "code",
      "execution_count": null,
      "metadata": {
        "colab": {
          "base_uri": "https://localhost:8080/"
        },
        "id": "xNmVPCQOAE0T",
        "outputId": "8f06bb83-d811-42ad-84a8-ec9de99cd990"
      },
      "outputs": [
        {
          "name": "stdout",
          "output_type": "stream",
          "text": [
            "Reshaped Feature Set Shape: (10015, 28, 28, 3)\n",
            "Label Set Shape: (10015,)\n"
          ]
        }
      ],
      "source": [
        "print(f\"Reshaped Feature Set Shape: {hmnist_reshape.shape}\")\n",
        "print(f\"Label Set Shape: {labels.shape}\")"
      ]
    },
    {
      "cell_type": "code",
      "execution_count": null,
      "metadata": {
        "id": "6p19EkIgAQ8B"
      },
      "outputs": [],
      "source": [
        "#Train Test Split \n",
        "X_train, X_test, y_train, y_test = train_test_split(hmnist_reshape, labels, train_size=0.8)#"
      ]
    },
    {
      "cell_type": "code",
      "execution_count": null,
      "metadata": {
        "id": "5J8vpA5SBnP-"
      },
      "outputs": [],
      "source": [
        "# Create an encoding of the labels into one-hot array\n",
        "\n",
        "y_train = tf.keras.utils.to_categorical(y_train, num_classes=7)\n",
        "y_test = tf.keras.utils.to_categorical(y_test, num_classes=7)"
      ]
    },
    {
      "cell_type": "code",
      "execution_count": null,
      "metadata": {
        "colab": {
          "base_uri": "https://localhost:8080/"
        },
        "id": "U6NQY_LcCzVx",
        "outputId": "e550410e-10bb-47da-ea74-a4d7877c923f"
      },
      "outputs": [
        {
          "name": "stdout",
          "output_type": "stream",
          "text": [
            "Shapes: \n",
            " \tX_train: (8012, 28, 28, 3)\n",
            "\ty_train: (8012, 7)\n",
            "\tX_test: (2003, 28, 28, 3)\n",
            "\ty_test: (2003, 7)\n"
          ]
        }
      ],
      "source": [
        "print(f\"Shapes: \\n \\tX_train: {X_train.shape}\\n\\ty_train: {y_train.shape}\\n\\tX_test: {X_test.shape}\\n\\ty_test: {y_test.shape}\")"
      ]
    },
    {
      "cell_type": "code",
      "execution_count": null,
      "metadata": {
        "colab": {
          "base_uri": "https://localhost:8080/"
        },
        "id": "4SRSzfanC0yO",
        "outputId": "5e52ebb4-91ca-4d60-ee44-9cc84d96c083"
      },
      "outputs": [
        {
          "name": "stdout",
          "output_type": "stream",
          "text": [
            "----- Training Set Sizes -----\n",
            "X_train: (7210, 28, 28, 3)\n",
            "y_train: (7210, 7)\n",
            "\n",
            "----- Validation Set Sizes -----\n",
            "X_validate: (802, 28, 28, 3)\n",
            "y_validate: (802, 7)\n",
            "\n",
            "----- Test/Prediction Set Sizes -----\n",
            "X_test: (2003, 28, 28, 3)\n",
            "y_test: (2003, 7)\n"
          ]
        }
      ],
      "source": [
        "# Split the training set into a training and validation set.  The (X_test, y_test) will be used for predictions/confusion matrix \n",
        "\n",
        "X_train, X_validate, y_train, y_validate = train_test_split(X_train, y_train, train_size=0.9) #also 0.8? for more validation loss behavior \n",
        "\n",
        "print(f\"----- Training Set Sizes -----\")\n",
        "print(f\"X_train: {X_train.shape}\\ny_train: {y_train.shape}\\n\")\n",
        "print(f\"----- Validation Set Sizes -----\")\n",
        "print(f\"X_validate: {X_validate.shape}\\ny_validate: {y_validate.shape}\\n\")\n",
        "print(f\"----- Test/Prediction Set Sizes -----\")\n",
        "print(f\"X_test: {X_test.shape}\\ny_test: {y_test.shape}\")"
      ]
    },
    {
      "cell_type": "code",
      "execution_count": null,
      "metadata": {
        "colab": {
          "base_uri": "https://localhost:8080/",
          "height": 399
        },
        "id": "AdkOC11REMQA",
        "outputId": "f7be3a09-d4b5-40ca-bff9-b8adf2e5f511"
      },
      "outputs": [
        {
          "name": "stdout",
          "output_type": "stream",
          "text": [
            "----- Displaying Sample Images from Train Set ------\n",
            "Location: (0, 0): [0. 0. 0. 0. 1. 0. 0.]\n",
            "Location: (0, 1): [0. 0. 0. 0. 1. 0. 0.]\n",
            "Location: (1, 0): [0. 0. 0. 0. 0. 0. 1.]\n",
            "Location: (1, 1): [0. 0. 0. 0. 1. 0. 0.]\n",
            "\n"
          ]
        },
        {
          "data": {
            "image/png": "[encoded data removed]",
            "text/plain": [
              "<Figure size 432x288 with 4 Axes>"
            ]
          },
          "metadata": {
            "needs_background": "light"
          },
          "output_type": "display_data"
        }
      ],
      "source": [
        "# Show Sample Images from Training Set \n",
        "figure, axes = plt.pyplot.subplots(2, 2)\n",
        "train_set_size = X_train.shape[0]\n",
        "tumor_types = \"\"\n",
        "for i in range(2):\n",
        "  for j in range(2):\n",
        "    k = np.random.choice(np.arange(train_set_size))\n",
        "    axes[i, j].imshow(X_train[k])\n",
        "    tumor_types += f\"Location: ({i}, {j}): {y_train[k]}\\n\"\n",
        "print(\"----- Displaying Sample Images from Train Set ------\")\n",
        "plt.pyplot.tight_layout()\n",
        "print(tumor_types)"
      ]
    },
    {
      "cell_type": "code",
      "execution_count": null,
      "metadata": {
        "colab": {
          "base_uri": "https://localhost:8080/"
        },
        "id": "Y9YznnugFrmy",
        "outputId": "e4d06643-985c-41d5-ed20-b6e69cf1aceb"
      },
      "outputs": [
        {
          "name": "stdout",
          "output_type": "stream",
          "text": [
            "Model: \"sequential\"\n",
            "_________________________________________________________________\n",
            " Layer (type)                Output Shape              Param #   \n",
            "=================================================================\n",
            " conv2d (Conv2D)             (None, 14, 14, 32)        896       \n",
            "                                                                 \n",
            " conv2d_1 (Conv2D)           (None, 14, 14, 32)        9248      \n",
            "                                                                 \n",
            " max_pooling2d (MaxPooling2D  (None, 7, 7, 32)         0         \n",
            " )                                                               \n",
            "                                                                 \n",
            " batch_normalization (BatchN  (None, 7, 7, 32)         128       \n",
            " ormalization)                                                   \n",
            "                                                                 \n",
            " dropout (Dropout)           (None, 7, 7, 32)          0         \n",
            "                                                                 \n",
            " conv2d_2 (Conv2D)           (None, 7, 7, 64)          18496     \n",
            "                                                                 \n",
            " conv2d_3 (Conv2D)           (None, 7, 7, 64)          36928     \n",
            "                                                                 \n",
            " max_pooling2d_1 (MaxPooling  (None, 3, 3, 64)         0         \n",
            " 2D)                                                             \n",
            "                                                                 \n",
            " batch_normalization_1 (Batc  (None, 3, 3, 64)         256       \n",
            " hNormalization)                                                 \n",
            "                                                                 \n",
            " dropout_1 (Dropout)         (None, 3, 3, 64)          0         \n",
            "                                                                 \n",
            " flatten (Flatten)           (None, 576)               0         \n",
            "                                                                 \n",
            " dense (Dense)               (None, 64)                36928     \n",
            "                                                                 \n",
            " dropout_2 (Dropout)         (None, 64)                0         \n",
            "                                                                 \n",
            " dense_1 (Dense)             (None, 32)                2080      \n",
            "                                                                 \n",
            " dropout_3 (Dropout)         (None, 32)                0         \n",
            "                                                                 \n",
            " dense_2 (Dense)             (None, 7)                 231       \n",
            "                                                                 \n",
            "=================================================================\n",
            "Total params: 105,191\n",
            "Trainable params: 104,999\n",
            "Non-trainable params: 192\n",
            "_________________________________________________________________\n"
          ]
        }
      ],
      "source": [
        "### Create the NN Model \n",
        "\n",
        "#Fixed things\n",
        "CONV_WINDOW = (3,3)\n",
        "\n",
        "from create_models import test_model_1\n",
        "\n",
        "\n",
        "# model = tf.keras.Sequential(layers=\n",
        "#   [\n",
        "#     Input(shape=[28, 28, 3]),\n",
        "    \n",
        "#     Conv2D(32, kernel_size=CONV_WINDOW, strides=(2,2), padding='same', activation='relu'),\n",
        "#     Conv2D(32, kernel_size=CONV_WINDOW, padding='same', activation='relu'),\n",
        "#     MaxPooling2D(),\n",
        "#     BatchNormalization(),\n",
        "#     Dropout(0.25),\n",
        "   \n",
        "#     Conv2D(64, kernel_size=CONV_WINDOW, padding='same', activation='relu'),\n",
        "#     Conv2D(64, kernel_size=CONV_WINDOW, padding='same', activation='relu'),\n",
        "#     MaxPooling2D(),\n",
        "#     BatchNormalization(),\n",
        "#     Dropout(0.4),\n",
        "   \n",
        "#     Flatten(),\n",
        "#     Dense(64, activation='relu'),\n",
        "#     Dropout(0.5),\n",
        "#     Dense(32, activation='relu'),\n",
        "#     Dropout(0.5),\n",
        "#     Dense(7, activation='softmax')\n",
        "#   ]\n",
        "# )\n",
        "model.summary()"
      ]
    },
    {
      "cell_type": "code",
      "execution_count": null,
      "metadata": {
        "id": "XaFpm0O8KxBN"
      },
      "outputs": [],
      "source": [
        "from keras import backend as K\n",
        "def recall(y_true, y_pred):\n",
        "    true_positives = K.sum(K.round(K.clip(y_true * y_pred, 0, 1)))\n",
        "    possible_positives = K.sum(K.round(K.clip(y_true, 0, 1)))\n",
        "    recall = true_positives / (possible_positives + K.epsilon())\n",
        "    return recall\n",
        "\n",
        "def prec(y_true, y_pred):\n",
        "    true_positives = K.sum(K.round(K.clip(y_true * y_pred, 0, 1)))\n",
        "    predicted_positives = K.sum(K.round(K.clip(y_pred, 0, 1)))\n",
        "    precision = true_positives / (predicted_positives + K.epsilon())\n",
        "    return precision\n",
        "\n",
        "def f1(y_true, y_pred):\n",
        "    p = prec(y_true, y_pred)\n",
        "    r = recall(y_true, y_pred)\n",
        "    return 2*((p*r)/(p+r+K.epsilon()))\n",
        "\n",
        "model.compile(loss='categorical_crossentropy', optimizer='adam', metrics=['accuracy', f1])"
      ]
    },
    {
      "cell_type": "code",
      "execution_count": null,
      "metadata": {
        "id": "zEieN0xGLih5"
      },
      "outputs": [],
      "source": [
        "#Callbacks used to stop learning early\n",
        "learning_rate_reduction = ReduceLROnPlateau(monitor='val_f1', \n",
        "                                            patience=10, \n",
        "                                            verbose=1, \n",
        "                                            factor=0.5, \n",
        "                                            min_lr=0.00001)\n",
        "early_stop = EarlyStopping(monitor='val_f1', mode='max', verbose=1, patience=10)"
      ]
    },
    {
      "cell_type": "code",
      "execution_count": null,
      "metadata": {
        "id": "2FYE4zgtM6yj"
      },
      "outputs": [],
      "source": [
        "#Image data generator, used to create a wider variety of images from the train set \n",
        "gen = ImageDataGenerator(\n",
        "    featurewise_center=False, \n",
        "    samplewise_center=False,\n",
        "    featurewise_std_normalization=False, \n",
        "    samplewise_std_normalization=False,\n",
        "    zca_whitening=False, \n",
        "    \n",
        "    rotation_range=30, \n",
        "    width_shift_range=0.1,\n",
        "    height_shift_range=0.1, \n",
        "    zoom_range=0.1,\n",
        "    horizontal_flip=False, vertical_flip=False\n",
        ")\n",
        "gen.fit(X_train)"
      ]
    },
    {
      "cell_type": "code",
      "execution_count": null,
      "metadata": {
        "colab": {
          "base_uri": "https://localhost:8080/"
        },
        "id": "d1eutrtDM-QU",
        "outputId": "f04bfbf6-d6f2-48d8-f3db-d9981510bf3a"
      },
      "outputs": [
        {
          "name": "stderr",
          "output_type": "stream",
          "text": [
            "/usr/local/lib/python3.7/dist-packages/ipykernel_launcher.py:15: UserWarning: `Model.fit_generator` is deprecated and will be removed in a future version. Please use `Model.fit`, which supports generators.\n",
            "  from ipykernel import kernelapp as app\n"
          ]
        },
        {
          "name": "stdout",
          "output_type": "stream",
          "text": [
            "Epoch 1/75\n",
            "225/225 [==============================] - 37s 29ms/step - loss: 1.3992 - accuracy: 0.5726 - f1: 0.4793 - val_loss: 1.0683 - val_accuracy: 0.6434 - val_f1: 0.5551 - lr: 0.0010\n",
            "Epoch 2/75\n",
            "225/225 [==============================] - 6s 27ms/step - loss: 1.1285 - accuracy: 0.6502 - f1: 0.5695 - val_loss: 1.8004 - val_accuracy: 0.6434 - val_f1: 0.5754 - lr: 0.0010\n",
            "Epoch 3/75\n",
            "225/225 [==============================] - 6s 27ms/step - loss: 1.0782 - accuracy: 0.6622 - f1: 0.5919 - val_loss: 1.1080 - val_accuracy: 0.6434 - val_f1: 0.6489 - lr: 0.0010\n",
            "Epoch 4/75\n",
            "225/225 [==============================] - 6s 28ms/step - loss: 1.0409 - accuracy: 0.6612 - f1: 0.6048 - val_loss: 1.0098 - val_accuracy: 0.6434 - val_f1: 0.6109 - lr: 0.0010\n",
            "Epoch 5/75\n",
            "225/225 [==============================] - 6s 27ms/step - loss: 1.0098 - accuracy: 0.6648 - f1: 0.6203 - val_loss: 1.2487 - val_accuracy: 0.6434 - val_f1: 0.5488 - lr: 0.0010\n",
            "Epoch 6/75\n",
            "225/225 [==============================] - 6s 27ms/step - loss: 0.9769 - accuracy: 0.6659 - f1: 0.6296 - val_loss: 1.0948 - val_accuracy: 0.6434 - val_f1: 0.5013 - lr: 0.0010\n",
            "Epoch 7/75\n",
            "225/225 [==============================] - 6s 26ms/step - loss: 0.9656 - accuracy: 0.6673 - f1: 0.6329 - val_loss: 1.0094 - val_accuracy: 0.6434 - val_f1: 0.6203 - lr: 0.0010\n",
            "Epoch 8/75\n",
            "225/225 [==============================] - 6s 28ms/step - loss: 0.9468 - accuracy: 0.6673 - f1: 0.6398 - val_loss: 1.0540 - val_accuracy: 0.6434 - val_f1: 0.5584 - lr: 0.0010\n",
            "Epoch 9/75\n",
            "225/225 [==============================] - 6s 28ms/step - loss: 0.9472 - accuracy: 0.6682 - f1: 0.6462 - val_loss: 1.9358 - val_accuracy: 0.6434 - val_f1: 0.6420 - lr: 0.0010\n",
            "Epoch 10/75\n",
            "225/225 [==============================] - 6s 29ms/step - loss: 0.9203 - accuracy: 0.6662 - f1: 0.6562 - val_loss: 0.9121 - val_accuracy: 0.6434 - val_f1: 0.6469 - lr: 0.0010\n",
            "Epoch 11/75\n",
            "225/225 [==============================] - 6s 28ms/step - loss: 0.9405 - accuracy: 0.6670 - f1: 0.6482 - val_loss: 1.0223 - val_accuracy: 0.6434 - val_f1: 0.6197 - lr: 0.0010\n",
            "Epoch 12/75\n",
            "225/225 [==============================] - 6s 27ms/step - loss: 0.9244 - accuracy: 0.6705 - f1: 0.6542 - val_loss: 0.9647 - val_accuracy: 0.6434 - val_f1: 0.6557 - lr: 0.0010\n",
            "Epoch 13/75\n",
            "225/225 [==============================] - 6s 28ms/step - loss: 0.9154 - accuracy: 0.6700 - f1: 0.6557 - val_loss: 0.9302 - val_accuracy: 0.6434 - val_f1: 0.6721 - lr: 0.0010\n",
            "Epoch 14/75\n",
            "225/225 [==============================] - 6s 28ms/step - loss: 0.9084 - accuracy: 0.6702 - f1: 0.6629 - val_loss: 0.9481 - val_accuracy: 0.6446 - val_f1: 0.6554 - lr: 0.0010\n",
            "Epoch 15/75\n",
            "225/225 [==============================] - 7s 29ms/step - loss: 0.9022 - accuracy: 0.6723 - f1: 0.6596 - val_loss: 1.0097 - val_accuracy: 0.6459 - val_f1: 0.6129 - lr: 0.0010\n",
            "Epoch 16/75\n",
            "224/225 [============================>.] - ETA: 0s - loss: 0.9012 - accuracy: 0.6741 - f1: 0.6659\n",
            "Epoch 00016: ReduceLROnPlateau reducing learning rate to 0.0005000000237487257.\n",
            "225/225 [==============================] - 7s 29ms/step - loss: 0.9016 - accuracy: 0.6739 - f1: 0.6660 - val_loss: 0.8834 - val_accuracy: 0.6509 - val_f1: 0.6530 - lr: 0.0010\n",
            "Epoch 17/75\n",
            "225/225 [==============================] - 6s 28ms/step - loss: 0.8748 - accuracy: 0.6736 - f1: 0.6672 - val_loss: 0.9656 - val_accuracy: 0.6434 - val_f1: 0.6645 - lr: 5.0000e-04\n",
            "Epoch 18/75\n",
            "225/225 [==============================] - 6s 28ms/step - loss: 0.8728 - accuracy: 0.6737 - f1: 0.6652 - val_loss: 0.9572 - val_accuracy: 0.6521 - val_f1: 0.6633 - lr: 5.0000e-04\n",
            "Epoch 19/75\n",
            "225/225 [==============================] - 6s 28ms/step - loss: 0.8743 - accuracy: 0.6736 - f1: 0.6682 - val_loss: 0.8930 - val_accuracy: 0.6496 - val_f1: 0.6586 - lr: 5.0000e-04\n",
            "Epoch 20/75\n",
            "225/225 [==============================] - 6s 29ms/step - loss: 0.8682 - accuracy: 0.6758 - f1: 0.6693 - val_loss: 0.9481 - val_accuracy: 0.6484 - val_f1: 0.6657 - lr: 5.0000e-04\n",
            "Epoch 21/75\n",
            "225/225 [==============================] - 6s 28ms/step - loss: 0.8742 - accuracy: 0.6767 - f1: 0.6708 - val_loss: 0.8992 - val_accuracy: 0.6484 - val_f1: 0.6465 - lr: 5.0000e-04\n",
            "Epoch 22/75\n",
            "225/225 [==============================] - 6s 27ms/step - loss: 0.8523 - accuracy: 0.6821 - f1: 0.6793 - val_loss: 0.9329 - val_accuracy: 0.6621 - val_f1: 0.6241 - lr: 5.0000e-04\n",
            "Epoch 23/75\n",
            "225/225 [==============================] - 6s 28ms/step - loss: 0.8561 - accuracy: 0.6787 - f1: 0.6734 - val_loss: 0.8968 - val_accuracy: 0.6708 - val_f1: 0.6592 - lr: 5.0000e-04\n",
            "Epoch 00023: early stopping\n"
          ]
        }
      ],
      "source": [
        "# Fit the neural network model using our callbacks and an expanded dataset using imageGenerator\n",
        "\n",
        "MAX_EPOCH = 75\n",
        "BATCH_SIZE=32 #smaller batch size than previous model \n",
        "VALIDATION_DATA = (X_validate, y_validate)\n",
        "STEPS_PER_EPOCH = X_train.shape[0] // BATCH_SIZE\n",
        "CALLBACKS = [learning_rate_reduction, early_stop]\n",
        "\n",
        "training_history = model.fit_generator(\n",
        "    gen.flow(X_train, y_train, batch_size=BATCH_SIZE),\n",
        "    steps_per_epoch=STEPS_PER_EPOCH,\n",
        "    epochs=MAX_EPOCH,\n",
        "    verbose=1,\n",
        "    callbacks=CALLBACKS,\n",
        "    validation_data=VALIDATION_DATA\n",
        ")"
      ]
    },
    {
      "cell_type": "code",
      "execution_count": null,
      "metadata": {
        "colab": {
          "base_uri": "https://localhost:8080/"
        },
        "id": "TuZHF7VkSKvn",
        "outputId": "38f92522-4f16-4231-dd2c-be97ffad407a"
      },
      "outputs": [
        {
          "name": "stdout",
          "output_type": "stream",
          "text": [
            "63/63 [==============================] - 0s 7ms/step - loss: 0.7935 - accuracy: 0.7104 - f1: 0.7025\n",
            "26/26 [==============================] - 0s 5ms/step - loss: 0.8968 - accuracy: 0.6708 - f1: 0.6592\n",
            "Validation: accuracy = 0.670823  ;  loss_v = 0.896785\n",
            "Test: accuracy = 0.710434  ;  loss = 0.793525\n"
          ]
        }
      ],
      "source": [
        "loss, accuracy, *all_others = model.evaluate(X_test, y_test, verbose=1)\n",
        "loss_v, accuracy_v, *all_others_2 = model.evaluate(X_validate, y_validate, verbose=1)\n",
        "print(\"Validation: accuracy = %f  ;  loss_v = %f\" % (accuracy_v, loss_v))\n",
        "print(\"Test: accuracy = %f  ;  loss = %f\" % (accuracy, loss))"
      ]
    },
    {
      "cell_type": "code",
      "execution_count": null,
      "metadata": {
        "colab": {
          "base_uri": "https://localhost:8080/",
          "height": 421
        },
        "id": "zfy48VjOSxzb",
        "outputId": "fc7a9cf3-60d3-40b6-8492-7dddc9fb6bcc"
      },
      "outputs": [
        {
          "name": "stderr",
          "output_type": "stream",
          "text": [
            "/usr/local/lib/python3.7/dist-packages/ipykernel_launcher.py:9: MatplotlibDeprecationWarning: Passing the minor parameter of set_xticks() positionally is deprecated since Matplotlib 3.2; the parameter will become keyword-only two minor releases later.\n",
            "  if __name__ == '__main__':\n",
            "/usr/local/lib/python3.7/dist-packages/ipykernel_launcher.py:17: MatplotlibDeprecationWarning: Passing the minor parameter of set_xticks() positionally is deprecated since Matplotlib 3.2; the parameter will become keyword-only two minor releases later.\n"
          ]
        },
        {
          "data": {
            "image/png": "[encoded data removed]",
            "text/plain": [
              "<Figure size 1080x360 with 2 Axes>"
            ]
          },
          "metadata": {
            "needs_background": "light"
          },
          "output_type": "display_data"
        }
      ],
      "source": [
        "def plot_model_history(model_history):\n",
        "    fig, axs = plt.pyplot.subplots(1,2,figsize=(15,5))\n",
        "    # summarize history for accuracy\n",
        "    axs[0].plot(range(1,len(model_history.history['accuracy'])+1),model_history.history['accuracy'])\n",
        "    axs[0].plot(range(1,len(model_history.history['val_accuracy'])+1),model_history.history['val_accuracy'])\n",
        "    axs[0].set_title('Model Accuracy')\n",
        "    axs[0].set_ylabel('Accuracy')\n",
        "    axs[0].set_xlabel('Epoch')\n",
        "    axs[0].set_xticks(np.arange(1,len(model_history.history['accuracy'])+1),len(model_history.history['accuracy'])/10)\n",
        "    axs[0].legend(['train', 'val'], loc='best')\n",
        "    # summarize history for loss\n",
        "    axs[1].plot(range(1,len(model_history.history['loss'])+1),model_history.history['loss'])\n",
        "    axs[1].plot(range(1,len(model_history.history['val_loss'])+1),model_history.history['val_loss'])\n",
        "    axs[1].set_title('Model Loss')\n",
        "    axs[1].set_ylabel('Loss')\n",
        "    axs[1].set_xlabel('Epoch')\n",
        "    axs[1].set_xticks(np.arange(1,len(model_history.history['loss'])+1),len(model_history.history['loss'])/10)\n",
        "    axs[1].legend(['train', 'val'], loc='best')\n",
        "    plt.pyplot.show()\n",
        "\n",
        "\n",
        "plot_model_history(training_history)"
      ]
    },
    {
      "cell_type": "code",
      "execution_count": null,
      "metadata": {
        "id": "p_usrR3kWS--"
      },
      "outputs": [],
      "source": [
        "# Test the model with X_Test and y_Test\n",
        "#Use a confusion matrix to see the number of incorrect predictions \n",
        "\n",
        "y_predicted = model.predict(X_test)\n",
        "predicted_classes = np.argmax(y_predicted, axis=1)\n",
        "actual_classes = np.argmax(y_test, axis=1)"
      ]
    },
    {
      "cell_type": "code",
      "execution_count": null,
      "metadata": {
        "id": "bZoHHlsHXe-1"
      },
      "outputs": [],
      "source": [
        "from sklearn.metrics import confusion_matrix \n",
        "\n",
        "matrix = confusion_matrix(actual_classes, predicted_classes,)\n",
        "fmatrix = matrix\n",
        "# fmatrix = matrix.astype('float') / matrix.sum(axis=1)"
      ]
    },
    {
      "cell_type": "code",
      "execution_count": null,
      "metadata": {
        "colab": {
          "base_uri": "https://localhost:8080/",
          "height": 282
        },
        "id": "1G9dEOpWX6fW",
        "outputId": "2a677360-9aea-4cc8-8f4e-c85ba46fed4f"
      },
      "outputs": [
        {
          "data": {
            "text/plain": [
              "<matplotlib.axes._subplots.AxesSubplot at 0x7f8d32911150>"
            ]
          },
          "execution_count": 37,
          "metadata": {},
          "output_type": "execute_result"
        },
        {
          "data": {
            "image/png": "[encoded data removed]",
            "text/plain": [
              "<Figure size 432x288 with 2 Axes>"
            ]
          },
          "metadata": {
            "needs_background": "light"
          },
          "output_type": "display_data"
        }
      ],
      "source": [
        "import seaborn as sns \n",
        "sns.heatmap(fmatrix, annot=True, fmt='.2f')"
      ]
    }
  ],
  "metadata": {
    "accelerator": "GPU",
    "colab": {
      "collapsed_sections": [],
      "name": "save_before_clear_browsercache.ipynb",
      "provenance": []
    },
    "kernelspec": {
      "display_name": "Python 3",
      "name": "python3"
    },
    "language_info": {
      "name": "python"
    }
  },
  "nbformat": 4,
  "nbformat_minor": 0
}
